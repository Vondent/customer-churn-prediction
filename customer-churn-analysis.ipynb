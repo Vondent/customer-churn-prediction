{
 "cells": [
  {
   "cell_type": "markdown",
   "id": "7536a350-c5fd-4909-9519-a1c5e49b9865",
   "metadata": {},
   "source": [
    "# Customer Churn Prediction\n",
    "\n",
    "Vincent Luong"
   ]
  },
  {
   "cell_type": "markdown",
   "id": "7607a575-6a97-4bd6-ad12-ff89380f1929",
   "metadata": {},
   "source": [
    "## Introduction: Predicting Customer Churn in Subscription-Based Services\n",
    "\n",
    "In recent years, monthly subscription-based services have surged in popularity, spanning industries such as streaming (e.g., Netflix, Spotify), SaaS (Software as a Service), fitness (e.g., Peloton), and e-commerce (e.g., Amazon Prime). These models offer convenience and consistent revenue streams, making them an attractive business strategy. However, they also introduce a critical metric to monitor: **customer churn**.\n",
    "\n",
    "**Customer Churn**: refers to the percentage of customers who cancel or stop renewing their subcriptions during a given time period.  High churn rates can significantlyt impact revenue and long-term growth, especially in competitive markets wjere acquiring new customers is often more expenstive then retaining existing ones.\n",
    "\n",
    "To mitigate churn and retain consumers, we can implement strategies such as:\n",
    "- Personalized offers and retention campaigns\n",
    "- Improving onboarding and customer support\n",
    "- Monitoring engagement metrics to intervene before customers churn\n",
    "\n",
    "To stay ahead of potential losses, we can utilize data-driven churn prediction models that help us act proactively rather than reactively. These models analyze customer behavior and identify individuals who are at a high risk of leaving, allowing companies to intervene before it’s too late. Common machine learning approaches used for predicting churn include:\n",
    "- **Logistic Regression**: A simple and interpretable baseline model for binary classification\n",
    "- **Decision Trees and Random Forests**: Useful for capturing nonlinear patterns and feature importance\n",
    "- **Gradient Boosting Machines**: Models such as XGBoost and LightGBM are power ensemble methods with strong predictive performance\n",
    "- **Neural Networks**: Applied for complex. high-dimensional data scenarios\n",
    "- **Survival Analysis**: Useful when modeling when a customer will churn, not just if.\n",
    "\n",
    "In this project, we aim to develop a machine learning model to predict whether a customer is likely to churn based on historical subscription and behavioral data introduced below. This prediction can empower businesses to make informed decisions that reduce churn and enhance customer lifetime value."
   ]
  },
  {
   "cell_type": "code",
   "execution_count": 1,
   "id": "e8ac0890-e971-485b-bc6a-871def451154",
   "metadata": {},
   "outputs": [],
   "source": [
    "import numpy as np\n",
    "import pandas as pd\n",
    "import matplotlib.pyplot as plt\n",
    "import seaborn as sns"
   ]
  },
  {
   "cell_type": "markdown",
   "id": "8b5a2cdb-dfc1-4a99-920b-a089b6de41b6",
   "metadata": {},
   "source": [
    "### Data\n",
    "\n",
    "The [Telco Customer Churn dataset 11.1.3+](https://www.kaggle.com/datasets/blastchar/telco-customer-churn/data), originally provided by IBM and hosted on Kaggle, offers detailed information about a telecommunications company's customers and their subscription behavior. It contains 7,043 customer records with 33 features, covering demographics, account details, and service usage patterns. The dataset has been updated to include more comprehensive information, providing deeper insights into customer behavior and churn factors.\n",
    "\n",
    "Features Include:\n",
    "\n",
    "🔑 Identifiers & Location\n",
    "1. `customerID`: A unique ID that identifies each customer\n",
    "2. `Count`: A value used in reporting/dashboarding to sum up the number of customers in a filtered set\n",
    "3. `Country`: The country of the customer's primary residence\n",
    "4. `State`: The state of hte customer's primary residence\n",
    "5. `City`: The city of hte customer's primary residence\n",
    "6. `Zip Code`: The zip code of the customer's primary residence\n",
    "7. `Lat Long`: The combined latitude and longitude of the customer's primary residence\n",
    "8. `Lattitude`: The latitude of the customer's primary residence\n",
    "9. `Longitude`: The longitude of the customer's primary residence\n",
    "    \n",
    "👤 Demographics\n",
    "1. `Gender`: The gender of a customer\n",
    "2. `SeniorCitizen`: A binary variable indicating whether the customer is a senior citizen or not (0 or 1)\n",
    "3. `Partner`: Whether the customer has a partner or not (True or False)\n",
    "4. `Dependents`: Whether the customer has dependents or not (Yes or No)\n",
    "   \n",
    "⏳ Customer Tenure\n",
    "1. `tenure`:  Indicates the total amount of months that the customer has been with the company by the end of the quarter specified above\n",
    "\n",
    "📞 Services Subscribed\n",
    "1. `PhoneService`: Indicates if the customer subscribes to home phone service with the company (Yes, No)\n",
    "2. `MultipleLines`:  Indicates if the customer subscribes to multiple telephone lines with the company (Yes, No)\n",
    "3. `InternetService`: Indicates if the customer subscribes to Internet service with the company (No, DSL, Fiber Optic, Cable)\n",
    "4. `OnlineSecurity`: Indicates if the customer subscribes to an additional online security service provided by the company (Yes, No)\n",
    "5. `OnlineBackup`: Indicates if the customer subscribes to an additional online backup service provided by the company (Yes, No)\n",
    "6. `Device Protection`: Indicates if the customer subscribes to an additional device protection plan for their Internet equipment provided by the company (Yes, No)\n",
    "7. `Tech Support`: Indicates if the customer subscribes to an additional technical support plan from the company with reduced wait times (Yes, No)\n",
    "8. `Streaming TV`: Indicates if the customer uses their Internet service to stream television programing from a third party provider (Yes, No, The company does not charge an additional fee for this service)\n",
    "9. `Streaming Movies`: Indicates if the customer uses their Internet service to stream movies from a third party provider (Yes, No, The company does not charge an additional fee for this service)\n",
    "\n",
    "💳 Billing & Payment\n",
    "1. `Contract`: Indicates the customer’s current contract type (Month-to-Month, One Year, Two Year)\n",
    "2. `Paperless Billing`: Indicates if the customer has chosen paperless billing (Yes, No)\n",
    "3. `Payment Method`: Indicates how the customer pays their bill (Bank Withdrawal, Credit Card, Mailed Check)\n",
    "4. `Monthly Charge`: Indicates the customer’s current total monthly charge for all their services from the company.\n",
    "5. `Total Charges`: Indicates the customer's total charges, calulated to the end of the quarter specified above.\n",
    "\n",
    "🔍 Churn-Related Information\n",
    "1. `Churn Label`: Yes = the customer left the company this quarter. No = the customer remained with the company. Directly related to Churn Value.\n",
    "2. `Churn Value`: 1 = the customer left the company this quarter. 0 = the customer remained with the company. Directly related to Churn Label.\n",
    "3. `Churn Score`: A value from 0-100 that is calculated using the predictive tool IBM SPSS Modeler. The model incorporates multiple factors known to cause churn. The higher the score, the more likely the customer will churn.\n",
    "4. `CLTV`: Customer Lifetime Value. A predicted CLTV is calculated using corporate formulas and existing data. The higher the value, the more valuable the customer. High value customers should be monitored for churn.\n",
    "5. `Churn Reason`:  A customer’s specific reason for leaving the company. Directly related to Churn Category."
   ]
  },
  {
   "cell_type": "code",
   "execution_count": 2,
   "id": "e69964ee-3cc9-49e1-a8e2-0b4a4b859059",
   "metadata": {},
   "outputs": [
    {
     "data": {
      "text/html": [
       "<div>\n",
       "<style scoped>\n",
       "    .dataframe tbody tr th:only-of-type {\n",
       "        vertical-align: middle;\n",
       "    }\n",
       "\n",
       "    .dataframe tbody tr th {\n",
       "        vertical-align: top;\n",
       "    }\n",
       "\n",
       "    .dataframe thead th {\n",
       "        text-align: right;\n",
       "    }\n",
       "</style>\n",
       "<table border=\"1\" class=\"dataframe\">\n",
       "  <thead>\n",
       "    <tr style=\"text-align: right;\">\n",
       "      <th></th>\n",
       "      <th>CustomerID</th>\n",
       "      <th>Count</th>\n",
       "      <th>Country</th>\n",
       "      <th>State</th>\n",
       "      <th>City</th>\n",
       "      <th>Zip Code</th>\n",
       "      <th>Lat Long</th>\n",
       "      <th>Latitude</th>\n",
       "      <th>Longitude</th>\n",
       "      <th>Gender</th>\n",
       "      <th>...</th>\n",
       "      <th>Contract</th>\n",
       "      <th>Paperless Billing</th>\n",
       "      <th>Payment Method</th>\n",
       "      <th>Monthly Charges</th>\n",
       "      <th>Total Charges</th>\n",
       "      <th>Churn Label</th>\n",
       "      <th>Churn Value</th>\n",
       "      <th>Churn Score</th>\n",
       "      <th>CLTV</th>\n",
       "      <th>Churn Reason</th>\n",
       "    </tr>\n",
       "  </thead>\n",
       "  <tbody>\n",
       "    <tr>\n",
       "      <th>0</th>\n",
       "      <td>3668-QPYBK</td>\n",
       "      <td>1</td>\n",
       "      <td>United States</td>\n",
       "      <td>California</td>\n",
       "      <td>Los Angeles</td>\n",
       "      <td>90003</td>\n",
       "      <td>33.964131, -118.272783</td>\n",
       "      <td>33.964131</td>\n",
       "      <td>-118.272783</td>\n",
       "      <td>Male</td>\n",
       "      <td>...</td>\n",
       "      <td>Month-to-month</td>\n",
       "      <td>Yes</td>\n",
       "      <td>Mailed check</td>\n",
       "      <td>53.85</td>\n",
       "      <td>108.15</td>\n",
       "      <td>Yes</td>\n",
       "      <td>1</td>\n",
       "      <td>86</td>\n",
       "      <td>3239</td>\n",
       "      <td>Competitor made better offer</td>\n",
       "    </tr>\n",
       "    <tr>\n",
       "      <th>1</th>\n",
       "      <td>9237-HQITU</td>\n",
       "      <td>1</td>\n",
       "      <td>United States</td>\n",
       "      <td>California</td>\n",
       "      <td>Los Angeles</td>\n",
       "      <td>90005</td>\n",
       "      <td>34.059281, -118.30742</td>\n",
       "      <td>34.059281</td>\n",
       "      <td>-118.307420</td>\n",
       "      <td>Female</td>\n",
       "      <td>...</td>\n",
       "      <td>Month-to-month</td>\n",
       "      <td>Yes</td>\n",
       "      <td>Electronic check</td>\n",
       "      <td>70.70</td>\n",
       "      <td>151.65</td>\n",
       "      <td>Yes</td>\n",
       "      <td>1</td>\n",
       "      <td>67</td>\n",
       "      <td>2701</td>\n",
       "      <td>Moved</td>\n",
       "    </tr>\n",
       "    <tr>\n",
       "      <th>2</th>\n",
       "      <td>9305-CDSKC</td>\n",
       "      <td>1</td>\n",
       "      <td>United States</td>\n",
       "      <td>California</td>\n",
       "      <td>Los Angeles</td>\n",
       "      <td>90006</td>\n",
       "      <td>34.048013, -118.293953</td>\n",
       "      <td>34.048013</td>\n",
       "      <td>-118.293953</td>\n",
       "      <td>Female</td>\n",
       "      <td>...</td>\n",
       "      <td>Month-to-month</td>\n",
       "      <td>Yes</td>\n",
       "      <td>Electronic check</td>\n",
       "      <td>99.65</td>\n",
       "      <td>820.5</td>\n",
       "      <td>Yes</td>\n",
       "      <td>1</td>\n",
       "      <td>86</td>\n",
       "      <td>5372</td>\n",
       "      <td>Moved</td>\n",
       "    </tr>\n",
       "    <tr>\n",
       "      <th>3</th>\n",
       "      <td>7892-POOKP</td>\n",
       "      <td>1</td>\n",
       "      <td>United States</td>\n",
       "      <td>California</td>\n",
       "      <td>Los Angeles</td>\n",
       "      <td>90010</td>\n",
       "      <td>34.062125, -118.315709</td>\n",
       "      <td>34.062125</td>\n",
       "      <td>-118.315709</td>\n",
       "      <td>Female</td>\n",
       "      <td>...</td>\n",
       "      <td>Month-to-month</td>\n",
       "      <td>Yes</td>\n",
       "      <td>Electronic check</td>\n",
       "      <td>104.80</td>\n",
       "      <td>3046.05</td>\n",
       "      <td>Yes</td>\n",
       "      <td>1</td>\n",
       "      <td>84</td>\n",
       "      <td>5003</td>\n",
       "      <td>Moved</td>\n",
       "    </tr>\n",
       "    <tr>\n",
       "      <th>4</th>\n",
       "      <td>0280-XJGEX</td>\n",
       "      <td>1</td>\n",
       "      <td>United States</td>\n",
       "      <td>California</td>\n",
       "      <td>Los Angeles</td>\n",
       "      <td>90015</td>\n",
       "      <td>34.039224, -118.266293</td>\n",
       "      <td>34.039224</td>\n",
       "      <td>-118.266293</td>\n",
       "      <td>Male</td>\n",
       "      <td>...</td>\n",
       "      <td>Month-to-month</td>\n",
       "      <td>Yes</td>\n",
       "      <td>Bank transfer (automatic)</td>\n",
       "      <td>103.70</td>\n",
       "      <td>5036.3</td>\n",
       "      <td>Yes</td>\n",
       "      <td>1</td>\n",
       "      <td>89</td>\n",
       "      <td>5340</td>\n",
       "      <td>Competitor had better devices</td>\n",
       "    </tr>\n",
       "  </tbody>\n",
       "</table>\n",
       "<p>5 rows × 33 columns</p>\n",
       "</div>"
      ],
      "text/plain": [
       "   CustomerID  Count        Country       State         City  Zip Code  \\\n",
       "0  3668-QPYBK      1  United States  California  Los Angeles     90003   \n",
       "1  9237-HQITU      1  United States  California  Los Angeles     90005   \n",
       "2  9305-CDSKC      1  United States  California  Los Angeles     90006   \n",
       "3  7892-POOKP      1  United States  California  Los Angeles     90010   \n",
       "4  0280-XJGEX      1  United States  California  Los Angeles     90015   \n",
       "\n",
       "                 Lat Long   Latitude   Longitude  Gender  ...        Contract  \\\n",
       "0  33.964131, -118.272783  33.964131 -118.272783    Male  ...  Month-to-month   \n",
       "1   34.059281, -118.30742  34.059281 -118.307420  Female  ...  Month-to-month   \n",
       "2  34.048013, -118.293953  34.048013 -118.293953  Female  ...  Month-to-month   \n",
       "3  34.062125, -118.315709  34.062125 -118.315709  Female  ...  Month-to-month   \n",
       "4  34.039224, -118.266293  34.039224 -118.266293    Male  ...  Month-to-month   \n",
       "\n",
       "  Paperless Billing             Payment Method  Monthly Charges Total Charges  \\\n",
       "0               Yes               Mailed check            53.85        108.15   \n",
       "1               Yes           Electronic check            70.70        151.65   \n",
       "2               Yes           Electronic check            99.65         820.5   \n",
       "3               Yes           Electronic check           104.80       3046.05   \n",
       "4               Yes  Bank transfer (automatic)           103.70        5036.3   \n",
       "\n",
       "  Churn Label Churn Value Churn Score  CLTV                   Churn Reason  \n",
       "0         Yes           1          86  3239   Competitor made better offer  \n",
       "1         Yes           1          67  2701                          Moved  \n",
       "2         Yes           1          86  5372                          Moved  \n",
       "3         Yes           1          84  5003                          Moved  \n",
       "4         Yes           1          89  5340  Competitor had better devices  \n",
       "\n",
       "[5 rows x 33 columns]"
      ]
     },
     "execution_count": 2,
     "metadata": {},
     "output_type": "execute_result"
    }
   ],
   "source": [
    "con_dat = pd.read_excel('data/Telco_customer_churn_recent.xlsx')\n",
    "con_dat.head()"
   ]
  },
  {
   "cell_type": "markdown",
   "id": "4e1385d5-fd5d-46b2-9697-25e2af2ea87c",
   "metadata": {},
   "source": [
    "From the dataset above, we observe that the columns `Churn Label` and `Churn Value` are directly correlated, with a one-to-one relationship. Including both as target variables would introduce redundancy and could lead to artificially inflated model performance. To avoid this, we will remove `Churn Label` and use only `Churn Value` as our target variable during the train/test split."
   ]
  },
  {
   "cell_type": "markdown",
   "id": "3e7555a4-ddc0-40f4-814e-4e41a6a8f2f0",
   "metadata": {},
   "source": [
    "## Explanatory Data Analysis\n",
    "\n",
    "**Exploratory Data Analysis** (EDA) is the process of investigating and summarizing the key characteristics of a dataset before applying any modeling techniques. It helps uncover patterns, spot anomalies, identify missing values, test assumptions, and gain insights into the structure of the data. Through visualizations and statistical summaries, EDA allows us to help make informed data-driven decisions about data cleaning, feature engineering, and model selection, ensuring that the data is well-understood and ready for analysis."
   ]
  },
  {
   "cell_type": "markdown",
   "id": "be96f490-1aed-4904-94ab-482ad6730e8a",
   "metadata": {},
   "source": [
    "### Data Shape and Data Types\n",
    "\n",
    "Below, we examine the structure of the dataset by displaying its shape, which includes the number of rows and columns, as well as the data types of each feature. This helps us understand what kind of preprocessing may be required."
   ]
  },
  {
   "cell_type": "code",
   "execution_count": 3,
   "id": "698bb8c2-d9c4-4c57-98fb-426b06b8bbf8",
   "metadata": {},
   "outputs": [
    {
     "data": {
      "text/plain": [
       "(7043, 33)"
      ]
     },
     "execution_count": 3,
     "metadata": {},
     "output_type": "execute_result"
    }
   ],
   "source": [
    "con_dat.shape"
   ]
  },
  {
   "cell_type": "code",
   "execution_count": 4,
   "id": "df48b45c-87a6-442c-a78b-fc07ebaaf5a5",
   "metadata": {},
   "outputs": [
    {
     "name": "stdout",
     "output_type": "stream",
     "text": [
      "<class 'pandas.core.frame.DataFrame'>\n",
      "RangeIndex: 7043 entries, 0 to 7042\n",
      "Data columns (total 33 columns):\n",
      " #   Column             Non-Null Count  Dtype  \n",
      "---  ------             --------------  -----  \n",
      " 0   CustomerID         7043 non-null   object \n",
      " 1   Count              7043 non-null   int64  \n",
      " 2   Country            7043 non-null   object \n",
      " 3   State              7043 non-null   object \n",
      " 4   City               7043 non-null   object \n",
      " 5   Zip Code           7043 non-null   int64  \n",
      " 6   Lat Long           7043 non-null   object \n",
      " 7   Latitude           7043 non-null   float64\n",
      " 8   Longitude          7043 non-null   float64\n",
      " 9   Gender             7043 non-null   object \n",
      " 10  Senior Citizen     7043 non-null   object \n",
      " 11  Partner            7043 non-null   object \n",
      " 12  Dependents         7043 non-null   object \n",
      " 13  Tenure Months      7043 non-null   int64  \n",
      " 14  Phone Service      7043 non-null   object \n",
      " 15  Multiple Lines     7043 non-null   object \n",
      " 16  Internet Service   7043 non-null   object \n",
      " 17  Online Security    7043 non-null   object \n",
      " 18  Online Backup      7043 non-null   object \n",
      " 19  Device Protection  7043 non-null   object \n",
      " 20  Tech Support       7043 non-null   object \n",
      " 21  Streaming TV       7043 non-null   object \n",
      " 22  Streaming Movies   7043 non-null   object \n",
      " 23  Contract           7043 non-null   object \n",
      " 24  Paperless Billing  7043 non-null   object \n",
      " 25  Payment Method     7043 non-null   object \n",
      " 26  Monthly Charges    7043 non-null   float64\n",
      " 27  Total Charges      7043 non-null   object \n",
      " 28  Churn Label        7043 non-null   object \n",
      " 29  Churn Value        7043 non-null   int64  \n",
      " 30  Churn Score        7043 non-null   int64  \n",
      " 31  CLTV               7043 non-null   int64  \n",
      " 32  Churn Reason       1869 non-null   object \n",
      "dtypes: float64(3), int64(6), object(24)\n",
      "memory usage: 1.8+ MB\n"
     ]
    }
   ],
   "source": [
    "con_dat.info()"
   ]
  },
  {
   "cell_type": "markdown",
   "id": "10f3481f-3368-4442-bf06-859b4525475f",
   "metadata": {},
   "source": [
    "#### Missing Values\n",
    "\n",
    "We will analyze missing values to ensure the quality and reliability of our data before performing any analysis or building predictive models.  Missing values can lead to biased results, reduce model accuracy, and cause errors during processing. Identifying and handling them appropriately helps maintain the integrity of the dataset and ensures that the insights or predictions we generate are based on complete and meaningful information."
   ]
  },
  {
   "cell_type": "code",
   "execution_count": 5,
   "id": "fb3ee960-8f0d-4deb-9f90-7443b115cac7",
   "metadata": {},
   "outputs": [
    {
     "data": {
      "text/plain": [
       "CustomerID              0\n",
       "Count                   0\n",
       "Country                 0\n",
       "State                   0\n",
       "City                    0\n",
       "Zip Code                0\n",
       "Lat Long                0\n",
       "Latitude                0\n",
       "Longitude               0\n",
       "Gender                  0\n",
       "Senior Citizen          0\n",
       "Partner                 0\n",
       "Dependents              0\n",
       "Tenure Months           0\n",
       "Phone Service           0\n",
       "Multiple Lines          0\n",
       "Internet Service        0\n",
       "Online Security         0\n",
       "Online Backup           0\n",
       "Device Protection       0\n",
       "Tech Support            0\n",
       "Streaming TV            0\n",
       "Streaming Movies        0\n",
       "Contract                0\n",
       "Paperless Billing       0\n",
       "Payment Method          0\n",
       "Monthly Charges         0\n",
       "Total Charges           0\n",
       "Churn Label             0\n",
       "Churn Value             0\n",
       "Churn Score             0\n",
       "CLTV                    0\n",
       "Churn Reason         5174\n",
       "dtype: int64"
      ]
     },
     "execution_count": 5,
     "metadata": {},
     "output_type": "execute_result"
    }
   ],
   "source": [
    "con_dat.isnull().sum()"
   ]
  },
  {
   "cell_type": "markdown",
   "id": "e6b8232e-046e-4bdd-8b4d-68b970997315",
   "metadata": {},
   "source": [
    "From the dataset, we observe some **non-response bias**, as certain customers did not provide a reason for why they churned. Aside from this, the remaining features appear relatively clean, with no missing values present."
   ]
  },
  {
   "cell_type": "markdown",
   "id": "b0755fd3-3f88-4bad-b59f-a9bddea851a6",
   "metadata": {},
   "source": [
    "#### Unique Features\n",
    "\n",
    "Unique features help us better understand the structure and variability of our dataset.  Identifying the number of unique values in each feature helps determine whether a feature is categorical, binary, or continuous, and whether its suitable for analysis or modeling.  It also helps us detect potential issues such as constant columns with no variability, which provide little to no predictive power and may be removed.  Understanding uniqueness ensures we handle features appropriately during preprocessing and model training."
   ]
  },
  {
   "cell_type": "code",
   "execution_count": 6,
   "id": "d9a16c72-4893-40e7-8ca9-a3a9175292be",
   "metadata": {},
   "outputs": [
    {
     "data": {
      "text/plain": [
       "CustomerID           7043\n",
       "Country                 1\n",
       "State                   1\n",
       "City                 1129\n",
       "Lat Long             1652\n",
       "Gender                  2\n",
       "Senior Citizen          2\n",
       "Partner                 2\n",
       "Dependents              2\n",
       "Phone Service           2\n",
       "Multiple Lines          3\n",
       "Internet Service        3\n",
       "Online Security         3\n",
       "Online Backup           3\n",
       "Device Protection       3\n",
       "Tech Support            3\n",
       "Streaming TV            3\n",
       "Streaming Movies        3\n",
       "Contract                3\n",
       "Paperless Billing       2\n",
       "Payment Method          4\n",
       "Total Charges        6531\n",
       "Churn Label             2\n",
       "Churn Reason           20\n",
       "dtype: int64"
      ]
     },
     "execution_count": 6,
     "metadata": {},
     "output_type": "execute_result"
    }
   ],
   "source": [
    "con_dat.select_dtypes(include='object').nunique()"
   ]
  },
  {
   "cell_type": "markdown",
   "id": "9addb153-95f2-42d0-a9d5-13d0cb1b7a13",
   "metadata": {},
   "source": [
    "From the dataset above, we observe that both Country and State contain only a single unique value.  `Country` is \"United States\" and `State` is \"California.\" This indicates that all customers are located in the same region. Since these features do not offer any variability, they are unlikely to contribute meaningful predictive power and can be safely dropped from the analysis.\n",
    "\n",
    "Additionally, we see that`CustomerID` is the unique key for identifying a customer, thus meaning that our model prediction will not be affected by `CustomerID`, we can also remove this column below."
   ]
  },
  {
   "cell_type": "code",
   "execution_count": 7,
   "id": "6a2c1ab5-ad7a-433a-88e2-789ed2666dd5",
   "metadata": {},
   "outputs": [
    {
     "data": {
      "text/html": [
       "<div>\n",
       "<style scoped>\n",
       "    .dataframe tbody tr th:only-of-type {\n",
       "        vertical-align: middle;\n",
       "    }\n",
       "\n",
       "    .dataframe tbody tr th {\n",
       "        vertical-align: top;\n",
       "    }\n",
       "\n",
       "    .dataframe thead th {\n",
       "        text-align: right;\n",
       "    }\n",
       "</style>\n",
       "<table border=\"1\" class=\"dataframe\">\n",
       "  <thead>\n",
       "    <tr style=\"text-align: right;\">\n",
       "      <th></th>\n",
       "      <th>Count</th>\n",
       "      <th>City</th>\n",
       "      <th>Zip Code</th>\n",
       "      <th>Lat Long</th>\n",
       "      <th>Latitude</th>\n",
       "      <th>Longitude</th>\n",
       "      <th>Gender</th>\n",
       "      <th>Senior Citizen</th>\n",
       "      <th>Partner</th>\n",
       "      <th>Dependents</th>\n",
       "      <th>...</th>\n",
       "      <th>Contract</th>\n",
       "      <th>Paperless Billing</th>\n",
       "      <th>Payment Method</th>\n",
       "      <th>Monthly Charges</th>\n",
       "      <th>Total Charges</th>\n",
       "      <th>Churn Label</th>\n",
       "      <th>Churn Value</th>\n",
       "      <th>Churn Score</th>\n",
       "      <th>CLTV</th>\n",
       "      <th>Churn Reason</th>\n",
       "    </tr>\n",
       "  </thead>\n",
       "  <tbody>\n",
       "    <tr>\n",
       "      <th>0</th>\n",
       "      <td>1</td>\n",
       "      <td>Los Angeles</td>\n",
       "      <td>90003</td>\n",
       "      <td>33.964131, -118.272783</td>\n",
       "      <td>33.964131</td>\n",
       "      <td>-118.272783</td>\n",
       "      <td>Male</td>\n",
       "      <td>No</td>\n",
       "      <td>No</td>\n",
       "      <td>No</td>\n",
       "      <td>...</td>\n",
       "      <td>Month-to-month</td>\n",
       "      <td>Yes</td>\n",
       "      <td>Mailed check</td>\n",
       "      <td>53.85</td>\n",
       "      <td>108.15</td>\n",
       "      <td>Yes</td>\n",
       "      <td>1</td>\n",
       "      <td>86</td>\n",
       "      <td>3239</td>\n",
       "      <td>Competitor made better offer</td>\n",
       "    </tr>\n",
       "    <tr>\n",
       "      <th>1</th>\n",
       "      <td>1</td>\n",
       "      <td>Los Angeles</td>\n",
       "      <td>90005</td>\n",
       "      <td>34.059281, -118.30742</td>\n",
       "      <td>34.059281</td>\n",
       "      <td>-118.307420</td>\n",
       "      <td>Female</td>\n",
       "      <td>No</td>\n",
       "      <td>No</td>\n",
       "      <td>Yes</td>\n",
       "      <td>...</td>\n",
       "      <td>Month-to-month</td>\n",
       "      <td>Yes</td>\n",
       "      <td>Electronic check</td>\n",
       "      <td>70.70</td>\n",
       "      <td>151.65</td>\n",
       "      <td>Yes</td>\n",
       "      <td>1</td>\n",
       "      <td>67</td>\n",
       "      <td>2701</td>\n",
       "      <td>Moved</td>\n",
       "    </tr>\n",
       "    <tr>\n",
       "      <th>2</th>\n",
       "      <td>1</td>\n",
       "      <td>Los Angeles</td>\n",
       "      <td>90006</td>\n",
       "      <td>34.048013, -118.293953</td>\n",
       "      <td>34.048013</td>\n",
       "      <td>-118.293953</td>\n",
       "      <td>Female</td>\n",
       "      <td>No</td>\n",
       "      <td>No</td>\n",
       "      <td>Yes</td>\n",
       "      <td>...</td>\n",
       "      <td>Month-to-month</td>\n",
       "      <td>Yes</td>\n",
       "      <td>Electronic check</td>\n",
       "      <td>99.65</td>\n",
       "      <td>820.5</td>\n",
       "      <td>Yes</td>\n",
       "      <td>1</td>\n",
       "      <td>86</td>\n",
       "      <td>5372</td>\n",
       "      <td>Moved</td>\n",
       "    </tr>\n",
       "    <tr>\n",
       "      <th>3</th>\n",
       "      <td>1</td>\n",
       "      <td>Los Angeles</td>\n",
       "      <td>90010</td>\n",
       "      <td>34.062125, -118.315709</td>\n",
       "      <td>34.062125</td>\n",
       "      <td>-118.315709</td>\n",
       "      <td>Female</td>\n",
       "      <td>No</td>\n",
       "      <td>Yes</td>\n",
       "      <td>Yes</td>\n",
       "      <td>...</td>\n",
       "      <td>Month-to-month</td>\n",
       "      <td>Yes</td>\n",
       "      <td>Electronic check</td>\n",
       "      <td>104.80</td>\n",
       "      <td>3046.05</td>\n",
       "      <td>Yes</td>\n",
       "      <td>1</td>\n",
       "      <td>84</td>\n",
       "      <td>5003</td>\n",
       "      <td>Moved</td>\n",
       "    </tr>\n",
       "    <tr>\n",
       "      <th>4</th>\n",
       "      <td>1</td>\n",
       "      <td>Los Angeles</td>\n",
       "      <td>90015</td>\n",
       "      <td>34.039224, -118.266293</td>\n",
       "      <td>34.039224</td>\n",
       "      <td>-118.266293</td>\n",
       "      <td>Male</td>\n",
       "      <td>No</td>\n",
       "      <td>No</td>\n",
       "      <td>Yes</td>\n",
       "      <td>...</td>\n",
       "      <td>Month-to-month</td>\n",
       "      <td>Yes</td>\n",
       "      <td>Bank transfer (automatic)</td>\n",
       "      <td>103.70</td>\n",
       "      <td>5036.3</td>\n",
       "      <td>Yes</td>\n",
       "      <td>1</td>\n",
       "      <td>89</td>\n",
       "      <td>5340</td>\n",
       "      <td>Competitor had better devices</td>\n",
       "    </tr>\n",
       "  </tbody>\n",
       "</table>\n",
       "<p>5 rows × 30 columns</p>\n",
       "</div>"
      ],
      "text/plain": [
       "   Count         City  Zip Code                Lat Long   Latitude  \\\n",
       "0      1  Los Angeles     90003  33.964131, -118.272783  33.964131   \n",
       "1      1  Los Angeles     90005   34.059281, -118.30742  34.059281   \n",
       "2      1  Los Angeles     90006  34.048013, -118.293953  34.048013   \n",
       "3      1  Los Angeles     90010  34.062125, -118.315709  34.062125   \n",
       "4      1  Los Angeles     90015  34.039224, -118.266293  34.039224   \n",
       "\n",
       "    Longitude  Gender Senior Citizen Partner Dependents  ...        Contract  \\\n",
       "0 -118.272783    Male             No      No         No  ...  Month-to-month   \n",
       "1 -118.307420  Female             No      No        Yes  ...  Month-to-month   \n",
       "2 -118.293953  Female             No      No        Yes  ...  Month-to-month   \n",
       "3 -118.315709  Female             No     Yes        Yes  ...  Month-to-month   \n",
       "4 -118.266293    Male             No      No        Yes  ...  Month-to-month   \n",
       "\n",
       "  Paperless Billing             Payment Method Monthly Charges Total Charges  \\\n",
       "0               Yes               Mailed check           53.85        108.15   \n",
       "1               Yes           Electronic check           70.70        151.65   \n",
       "2               Yes           Electronic check           99.65         820.5   \n",
       "3               Yes           Electronic check          104.80       3046.05   \n",
       "4               Yes  Bank transfer (automatic)          103.70        5036.3   \n",
       "\n",
       "  Churn Label Churn Value Churn Score  CLTV                   Churn Reason  \n",
       "0         Yes           1          86  3239   Competitor made better offer  \n",
       "1         Yes           1          67  2701                          Moved  \n",
       "2         Yes           1          86  5372                          Moved  \n",
       "3         Yes           1          84  5003                          Moved  \n",
       "4         Yes           1          89  5340  Competitor had better devices  \n",
       "\n",
       "[5 rows x 30 columns]"
      ]
     },
     "execution_count": 7,
     "metadata": {},
     "output_type": "execute_result"
    }
   ],
   "source": [
    "con_dat.drop(['CustomerID', 'Country', 'State'], axis=1, inplace=True)\n",
    "con_dat.head()"
   ]
  },
  {
   "cell_type": "markdown",
   "id": "10820245-fe13-41d7-8105-2ded89d2af3f",
   "metadata": {},
   "source": [
    "### Churn Reasons Distributions\n",
    "\n",
    "Beneath, we analyze the reasons why customers have churned in order to gain deeper insights that can help improve customer retention strategies."
   ]
  },
  {
   "cell_type": "code",
   "execution_count": 8,
   "id": "3c8ccbe5-ad6a-4725-a6d6-2cd5a14d5301",
   "metadata": {},
   "outputs": [
    {
     "data": {
      "text/plain": [
       "Attitude of support person                   192\n",
       "Competitor offered higher download speeds    189\n",
       "Competitor offered more data                 162\n",
       "Don't know                                   154\n",
       "Competitor made better offer                 140\n",
       "Attitude of service provider                 135\n",
       "Competitor had better devices                130\n",
       "Network reliability                          103\n",
       "Product dissatisfaction                      102\n",
       "Price too high                                98\n",
       "Service dissatisfaction                       89\n",
       "Lack of self-service on Website               88\n",
       "Extra data charges                            57\n",
       "Moved                                         53\n",
       "Limited range of services                     44\n",
       "Long distance charges                         44\n",
       "Lack of affordable download/upload speed      44\n",
       "Poor expertise of phone support               20\n",
       "Poor expertise of online support              19\n",
       "Deceased                                       6\n",
       "Name: Churn Reason, dtype: int64"
      ]
     },
     "execution_count": 8,
     "metadata": {},
     "output_type": "execute_result"
    }
   ],
   "source": [
    "con_dat['Churn Reason'].value_counts()"
   ]
  },
  {
   "cell_type": "code",
   "execution_count": 9,
   "id": "b1f937a3-e8d1-4235-a8d2-86ca551d2590",
   "metadata": {},
   "outputs": [
    {
     "data": {
      "image/png": "[encoded data removed]",
      "text/plain": [
       "<Figure size 1200x600 with 1 Axes>"
      ]
     },
     "metadata": {},
     "output_type": "display_data"
    }
   ],
   "source": [
    "# Set figure size\n",
    "plt.figure(figsize=(12, 6))\n",
    "\n",
    "# Plot\n",
    "sns.countplot(y='Churn Reason', data=con_dat, order=con_dat['Churn Reason'].value_counts().index)\n",
    "\n",
    "# Add titles and labels\n",
    "plt.title('Distribution of Churn Reasons')\n",
    "plt.xlabel('Number of Customers')\n",
    "plt.ylabel('Churn Reason')\n",
    "plt.tight_layout()\n",
    "plt.show()"
   ]
  },
  {
   "cell_type": "markdown",
   "id": "d191d708-5c1e-4638-856d-cbe7b1389892",
   "metadata": {},
   "source": [
    "From the visualizations above, we observe that many customers churn due to issues related to customer support and more attractive offers from competitors."
   ]
  },
  {
   "cell_type": "markdown",
   "id": "34bcc344-c279-4aca-a490-4475388c81f5",
   "metadata": {},
   "source": [
    "#### Summary Statistics\n",
    "\n",
    "Below are the summary statistics about the dataset. These summary statistics provides a quick overview of the central tendency, spread, and distribution of numerical features. It helps identify outliers, anomalies, and potential data entry errors, such as unexpected negative values. Differences between metrics like the mean and median can reveal skewed distributions, which may require transformation before modeling. Summary statistics also allow for easy comparison between features, guiding decisions on normalization or feature scaling. Overall, this step ensures that you understand the structure and quality of your data before moving forward with analysis or modeling."
   ]
  },
  {
   "cell_type": "code",
   "execution_count": 10,
   "id": "cc96d411-fd50-49d2-b9e6-ff349361caf7",
   "metadata": {},
   "outputs": [
    {
     "data": {
      "text/html": [
       "<div>\n",
       "<style scoped>\n",
       "    .dataframe tbody tr th:only-of-type {\n",
       "        vertical-align: middle;\n",
       "    }\n",
       "\n",
       "    .dataframe tbody tr th {\n",
       "        vertical-align: top;\n",
       "    }\n",
       "\n",
       "    .dataframe thead th {\n",
       "        text-align: right;\n",
       "    }\n",
       "</style>\n",
       "<table border=\"1\" class=\"dataframe\">\n",
       "  <thead>\n",
       "    <tr style=\"text-align: right;\">\n",
       "      <th></th>\n",
       "      <th>Count</th>\n",
       "      <th>Zip Code</th>\n",
       "      <th>Latitude</th>\n",
       "      <th>Longitude</th>\n",
       "      <th>Tenure Months</th>\n",
       "      <th>Monthly Charges</th>\n",
       "      <th>Churn Value</th>\n",
       "      <th>Churn Score</th>\n",
       "      <th>CLTV</th>\n",
       "    </tr>\n",
       "  </thead>\n",
       "  <tbody>\n",
       "    <tr>\n",
       "      <th>count</th>\n",
       "      <td>7043.0</td>\n",
       "      <td>7043.000000</td>\n",
       "      <td>7043.000000</td>\n",
       "      <td>7043.000000</td>\n",
       "      <td>7043.000000</td>\n",
       "      <td>7043.000000</td>\n",
       "      <td>7043.000000</td>\n",
       "      <td>7043.000000</td>\n",
       "      <td>7043.000000</td>\n",
       "    </tr>\n",
       "    <tr>\n",
       "      <th>mean</th>\n",
       "      <td>1.0</td>\n",
       "      <td>93521.964646</td>\n",
       "      <td>36.282441</td>\n",
       "      <td>-119.798880</td>\n",
       "      <td>32.371149</td>\n",
       "      <td>64.761692</td>\n",
       "      <td>0.265370</td>\n",
       "      <td>58.699418</td>\n",
       "      <td>4400.295755</td>\n",
       "    </tr>\n",
       "    <tr>\n",
       "      <th>std</th>\n",
       "      <td>0.0</td>\n",
       "      <td>1865.794555</td>\n",
       "      <td>2.455723</td>\n",
       "      <td>2.157889</td>\n",
       "      <td>24.559481</td>\n",
       "      <td>30.090047</td>\n",
       "      <td>0.441561</td>\n",
       "      <td>21.525131</td>\n",
       "      <td>1183.057152</td>\n",
       "    </tr>\n",
       "    <tr>\n",
       "      <th>min</th>\n",
       "      <td>1.0</td>\n",
       "      <td>90001.000000</td>\n",
       "      <td>32.555828</td>\n",
       "      <td>-124.301372</td>\n",
       "      <td>0.000000</td>\n",
       "      <td>18.250000</td>\n",
       "      <td>0.000000</td>\n",
       "      <td>5.000000</td>\n",
       "      <td>2003.000000</td>\n",
       "    </tr>\n",
       "    <tr>\n",
       "      <th>25%</th>\n",
       "      <td>1.0</td>\n",
       "      <td>92102.000000</td>\n",
       "      <td>34.030915</td>\n",
       "      <td>-121.815412</td>\n",
       "      <td>9.000000</td>\n",
       "      <td>35.500000</td>\n",
       "      <td>0.000000</td>\n",
       "      <td>40.000000</td>\n",
       "      <td>3469.000000</td>\n",
       "    </tr>\n",
       "    <tr>\n",
       "      <th>50%</th>\n",
       "      <td>1.0</td>\n",
       "      <td>93552.000000</td>\n",
       "      <td>36.391777</td>\n",
       "      <td>-119.730885</td>\n",
       "      <td>29.000000</td>\n",
       "      <td>70.350000</td>\n",
       "      <td>0.000000</td>\n",
       "      <td>61.000000</td>\n",
       "      <td>4527.000000</td>\n",
       "    </tr>\n",
       "    <tr>\n",
       "      <th>75%</th>\n",
       "      <td>1.0</td>\n",
       "      <td>95351.000000</td>\n",
       "      <td>38.224869</td>\n",
       "      <td>-118.043237</td>\n",
       "      <td>55.000000</td>\n",
       "      <td>89.850000</td>\n",
       "      <td>1.000000</td>\n",
       "      <td>75.000000</td>\n",
       "      <td>5380.500000</td>\n",
       "    </tr>\n",
       "    <tr>\n",
       "      <th>max</th>\n",
       "      <td>1.0</td>\n",
       "      <td>96161.000000</td>\n",
       "      <td>41.962127</td>\n",
       "      <td>-114.192901</td>\n",
       "      <td>72.000000</td>\n",
       "      <td>118.750000</td>\n",
       "      <td>1.000000</td>\n",
       "      <td>100.000000</td>\n",
       "      <td>6500.000000</td>\n",
       "    </tr>\n",
       "  </tbody>\n",
       "</table>\n",
       "</div>"
      ],
      "text/plain": [
       "        Count      Zip Code     Latitude    Longitude  Tenure Months  \\\n",
       "count  7043.0   7043.000000  7043.000000  7043.000000    7043.000000   \n",
       "mean      1.0  93521.964646    36.282441  -119.798880      32.371149   \n",
       "std       0.0   1865.794555     2.455723     2.157889      24.559481   \n",
       "min       1.0  90001.000000    32.555828  -124.301372       0.000000   \n",
       "25%       1.0  92102.000000    34.030915  -121.815412       9.000000   \n",
       "50%       1.0  93552.000000    36.391777  -119.730885      29.000000   \n",
       "75%       1.0  95351.000000    38.224869  -118.043237      55.000000   \n",
       "max       1.0  96161.000000    41.962127  -114.192901      72.000000   \n",
       "\n",
       "       Monthly Charges  Churn Value  Churn Score         CLTV  \n",
       "count      7043.000000  7043.000000  7043.000000  7043.000000  \n",
       "mean         64.761692     0.265370    58.699418  4400.295755  \n",
       "std          30.090047     0.441561    21.525131  1183.057152  \n",
       "min          18.250000     0.000000     5.000000  2003.000000  \n",
       "25%          35.500000     0.000000    40.000000  3469.000000  \n",
       "50%          70.350000     0.000000    61.000000  4527.000000  \n",
       "75%          89.850000     1.000000    75.000000  5380.500000  \n",
       "max         118.750000     1.000000   100.000000  6500.000000  "
      ]
     },
     "execution_count": 10,
     "metadata": {},
     "output_type": "execute_result"
    }
   ],
   "source": [
    "con_dat.describe()"
   ]
  },
  {
   "cell_type": "markdown",
   "id": "e8af01a5-946e-4afd-b525-1637e4d3108e",
   "metadata": {},
   "source": [
    "### Data Visualization"
   ]
  },
  {
   "cell_type": "markdown",
   "id": "3f2bb6dd-1d0b-41af-a37d-730c68f0c323",
   "metadata": {},
   "source": [
    "#### Distribution of Churn Population"
   ]
  },
  {
   "cell_type": "markdown",
   "id": "2396a4db-4495-4125-bec7-9694c322daae",
   "metadata": {},
   "source": [
    "We visualize the distribution of the churn population as it helps us understand the balance between churned and retained customers, which is crucial for building effective predictive models.  If the dataset is imbalanced (e.g., many more non-churned than churned customers), it can bias the model toward the majority class, leading to misleading accuracy and poor performance in detecting actual churn. Visualization also provides an immediate, intuitive grasp of class proportions, helps guide decisions like resampling (oversampling or undersampling), and highlights whether churn is a significant concern for the business."
   ]
  },
  {
   "cell_type": "code",
   "execution_count": 11,
   "id": "ee503554-4bdc-4bbc-8d7f-a70c3d027bef",
   "metadata": {},
   "outputs": [
    {
     "data": {
      "text/plain": [
       "<Axes: xlabel='Churn Label', ylabel='count'>"
      ]
     },
     "execution_count": 11,
     "metadata": {},
     "output_type": "execute_result"
    },
    {
     "data": {
      "image/png": "[encoded data removed]",
      "text/plain": [
       "<Figure size 640x480 with 1 Axes>"
      ]
     },
     "metadata": {},
     "output_type": "display_data"
    }
   ],
   "source": [
    "sns.countplot(x='Churn Label', data=con_dat)"
   ]
  },
  {
   "cell_type": "markdown",
   "id": "bf9af1e4-ac1e-48b1-8d3f-8134905ba5db",
   "metadata": {},
   "source": [
    "From the graph above, we see that there appears some class imbalance in the dataset.  Since we observe class imbalance in the dataset, we need to take steps to ensure our model doesn't become biased toward the majority class. This imbalance can lead to misleading accuracy and poor performance in identifying actual churners. To address this, we can apply resampling techniques such as oversampling the minority class or undersampling the majority class. Additionally, we should use evaluation metrics like precision, recall, F1-score, and AUC rather than relying solely on accuracy. These steps will help create a more balanced and reliable churn prediction model."
   ]
  },
  {
   "cell_type": "markdown",
   "id": "ec41450a-76e5-4f67-851e-9742f2836e38",
   "metadata": {},
   "source": [
    "### Distribution of Churn Population of Given Features"
   ]
  },
  {
   "cell_type": "markdown",
   "id": "f9c61376-7000-48cb-b31d-9769d17ecfe0",
   "metadata": {},
   "source": [
    "#### Distribution of Churn Population Given City\n",
    "\n",
    "Below we will visualize the distribuion of how many customers churned based on the category we will first start by dispalying the top 10 cities:"
   ]
  },
  {
   "cell_type": "code",
   "execution_count": 24,
   "id": "22f13b70-8c68-44d8-b1b7-207dca10a23b",
   "metadata": {},
   "outputs": [
    {
     "data": {
      "text/plain": [
       "Los Angeles      305\n",
       "San Diego        150\n",
       "San Jose         112\n",
       "Sacramento       108\n",
       "San Francisco    104\n",
       "Fresno            64\n",
       "Long Beach        60\n",
       "Oakland           52\n",
       "Stockton          44\n",
       "Bakersfield       40\n",
       "Name: City, dtype: int64"
      ]
     },
     "execution_count": 24,
     "metadata": {},
     "output_type": "execute_result"
    }
   ],
   "source": [
    "# Get the top 10 cities by number of customers\n",
    "top_10_cities = con_dat['City'].value_counts().head(10).index\n",
    "\n",
    "# Filter the dataset to include only those top 10 cities\n",
    "top_10_df = con_dat[con_dat['City'].isin(top_10_cities)]\n",
    "\n",
    "# Preview the result\n",
    "top_10_df['City'].value_counts()"
   ]
  },
  {
   "cell_type": "code",
   "execution_count": 25,
   "id": "b781ae89-71f9-4f27-9f05-7a714102f35d",
   "metadata": {},
   "outputs": [
    {
     "data": {
      "image/png": "[encoded data removed]",
      "text/plain": [
       "<Figure size 1200x600 with 1 Axes>"
      ]
     },
     "metadata": {},
     "output_type": "display_data"
    }
   ],
   "source": [
    "#churn rate by city\n",
    "churn_rate_by_city = (\n",
    "    top_10_df.groupby('City')['Churn Value']\n",
    "    .mean()\n",
    "    .sort_values(ascending=False)\n",
    ")\n",
    "\n",
    "#plot the charts\n",
    "plt.figure(figsize=(12, 6))\n",
    "sns.barplot(\n",
    "    x=churn_rate_by_city.values,\n",
    "    y=churn_rate_by_city.index,\n",
    "    color='skyblue'\n",
    ")\n",
    "plt.title('Churn Rate by City (Top 10 Most Frequent Cities)')\n",
    "plt.xlabel('Churn Rate')\n",
    "plt.ylabel('City')\n",
    "plt.xlim(0, 1)\n",
    "plt.tight_layout()\n",
    "plt.show()"
   ]
  },
  {
   "cell_type": "markdown",
   "id": "68e645e1-33dd-4f72-b9e2-9697ebb1cc16",
   "metadata": {},
   "source": [
    "From the top 10 most populated cities, we see that San Diego tends to have the highest churn rate."
   ]
  },
  {
   "cell_type": "markdown",
   "id": "73c25a4f-3fdf-4b92-8971-62aede3899d6",
   "metadata": {},
   "source": [
    "### Data Cleaning\n",
    "\n",
    "**Data Cleaning** is the process of identifying and correcting errors, inconsistencies, and inaccuracies in a dataset to improve its quality and ensure reliable analysis. This involves handling missing values, correcting data types, removing duplicate or irrelevant entries, standardizing formats, and resolving inconsistencies. Clean data is essential for building accurate and trustworthy models, as poor-quality data can lead to misleading insights and reduced model performance.\n",
    "\n",
    "We will first split the data to prevent any **data-leakage** from occuring.  **Data Leakage** is the occurence when information from outside the training dataset unintentionally influences the model during training.  This can happen when preporcessing steps like scaling, encoding, or imputing are applied before the train-test split, or when target-related information is included in the features.  Data leakage leads to overly optimistic and overfitting results during evaluation; thus not generalizing well to real-world data and performance."
   ]
  },
  {
   "cell_type": "markdown",
   "id": "b2b3c35a-d7b0-4bb9-bcbb-f48079678741",
   "metadata": {},
   "source": [
    "#### Data Train/Test Split Creation\n",
    "\n",
    "We will be splitting the data into a 80/20 test split"
   ]
  },
  {
   "cell_type": "code",
   "execution_count": 12,
   "id": "066948d4-849f-4c18-bb43-da871e10109c",
   "metadata": {},
   "outputs": [],
   "source": [
    "from sklearn.model_selection import train_test_split\n",
    "\n",
    "# Creating dataset with without target\n",
    "X = con_dat.drop(['Churn Label', 'Churn Value'], axis=1)\n",
    "# Creating dataset with target\n",
    "y = con_dat['Churn Value']\n",
    "\n",
    "X_train, X_test, y_train, y_test = train_test_split(X, y, test_size=0.2, stratify=y, random_state=123)"
   ]
  },
  {
   "cell_type": "markdown",
   "id": "f150e45a-bddd-4b9e-ad7f-5b5c22bb18da",
   "metadata": {},
   "source": [
    "#### Churn Reason Imputing\n",
    "\n",
    "In our **EDA**, we saw that for some of the reasons stated there appeared some non-response bias or unknown reasons for why customers have churned.  We will impute this also fit the category of \"Don't know\"."
   ]
  },
  {
   "cell_type": "code",
   "execution_count": 13,
   "id": "d417fde8-6398-4953-9360-66f28ebd0a6e",
   "metadata": {},
   "outputs": [
    {
     "data": {
      "text/plain": [
       "4139"
      ]
     },
     "execution_count": 13,
     "metadata": {},
     "output_type": "execute_result"
    }
   ],
   "source": [
    "X_train['Churn Reason'].isna().sum()"
   ]
  },
  {
   "cell_type": "code",
   "execution_count": 14,
   "id": "e4a6d53f-af51-413b-bdb3-ee742b42a7c4",
   "metadata": {},
   "outputs": [
    {
     "data": {
      "text/plain": [
       "122"
      ]
     },
     "execution_count": 14,
     "metadata": {},
     "output_type": "execute_result"
    }
   ],
   "source": [
    "(X_train['Churn Reason'] == \"Don't know\").sum()"
   ]
  },
  {
   "cell_type": "code",
   "execution_count": 15,
   "id": "d7b5f19e-67d5-4f3b-b88d-0c54365ed4ae",
   "metadata": {},
   "outputs": [
    {
     "data": {
      "text/plain": [
       "3182    Don't know\n",
       "753     Don't know\n",
       "2686    Don't know\n",
       "4855    Don't know\n",
       "4452    Don't know\n",
       "Name: Churn Reason, dtype: object"
      ]
     },
     "execution_count": 15,
     "metadata": {},
     "output_type": "execute_result"
    }
   ],
   "source": [
    "X_train['Churn Reason'].fillna(\"Don't know\", inplace=True)\n",
    "X_test['Churn Reason'].fillna(\"Don't know\", inplace=True)\n",
    "\n",
    "X_train['Churn Reason'].head()"
   ]
  },
  {
   "cell_type": "markdown",
   "id": "8bfbdcd0-db2e-41b7-aa62-1136d8d7b9d2",
   "metadata": {},
   "source": [
    "Imputing missing values in `Churn Reason` with \"Don't know\" is a practical approach that preserves all data, avoids model errors from NaN values, and maintains interpretability by clearly indicating that no reason was provided. It also prevents data leakage by applying imputation after splitting and may capture meaningful patterns; as customers who don’t provide a reason could behave differently from those who do."
   ]
  }
 ],
 "metadata": {
  "kernelspec": {
   "display_name": "Python 3 (ipykernel)",
   "language": "python",
   "name": "python3"
  },
  "language_info": {
   "codemirror_mode": {
    "name": "ipython",
    "version": 3
   },
   "file_extension": ".py",
   "mimetype": "text/x-python",
   "name": "python",
   "nbconvert_exporter": "python",
   "pygments_lexer": "ipython3",
   "version": "3.8.10"
  }
 },
 "nbformat": 4,
 "nbformat_minor": 5
}
