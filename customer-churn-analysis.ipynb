{
 "cells": [
  {
   "cell_type": "markdown",
   "id": "7536a350-c5fd-4909-9519-a1c5e49b9865",
   "metadata": {},
   "source": [
    "# Customer Churn Prediction\n",
    "\n",
    "Vincent Luong"
   ]
  },
  {
   "cell_type": "markdown",
   "id": "7607a575-6a97-4bd6-ad12-ff89380f1929",
   "metadata": {},
   "source": [
    "## Introduction\n",
    "\n",
    "brief summary about what churning is and something about subscriptions services being on the rise\n"
   ]
  },
  {
   "cell_type": "code",
   "execution_count": 2,
   "id": "e8ac0890-e971-485b-bc6a-871def451154",
   "metadata": {},
   "outputs": [],
   "source": [
    "import numpy as np\n",
    "import pandas as pd"
   ]
  },
  {
   "cell_type": "markdown",
   "id": "8b5a2cdb-dfc1-4a99-920b-a089b6de41b6",
   "metadata": {},
   "source": [
    "### Data\n",
    "\n",
    "brief summary about the data"
   ]
  },
  {
   "cell_type": "code",
   "execution_count": 3,
   "id": "e69964ee-3cc9-49e1-a8e2-0b4a4b859059",
   "metadata": {},
   "outputs": [
    {
     "ename": "NameError",
     "evalue": "name 'head' is not defined",
     "output_type": "error",
     "traceback": [
      "\u001b[1;31m---------------------------------------------------------------------------\u001b[0m",
      "\u001b[1;31mNameError\u001b[0m                                 Traceback (most recent call last)",
      "Cell \u001b[1;32mIn[3], line 2\u001b[0m\n\u001b[0;32m      1\u001b[0m con_dat \u001b[38;5;241m=\u001b[39m pd\u001b[38;5;241m.\u001b[39mread_csv(\u001b[38;5;124m'\u001b[39m\u001b[38;5;124mdata/WA_Fn-UseC_-Telco-Customer-Churn.csv\u001b[39m\u001b[38;5;124m'\u001b[39m)\n\u001b[1;32m----> 2\u001b[0m \u001b[43mhead\u001b[49m(con_dat)\n",
      "\u001b[1;31mNameError\u001b[0m: name 'head' is not defined"
     ]
    }
   ],
   "source": [
    "con_dat = pd.read_csv('data/WA_Fn-UseC_-Telco-Customer-Churn.csv')\n",
    "hea"
   ]
  },
  {
   "cell_type": "markdown",
   "id": "3e7555a4-ddc0-40f4-814e-4e41a6a8f2f0",
   "metadata": {},
   "source": [
    "## Explanatory Data Analysis"
   ]
  },
  {
   "cell_type": "code",
   "execution_count": null,
   "id": "8e780228-b4d6-4020-bf2d-d0985033e87c",
   "metadata": {},
   "outputs": [],
   "source": []
  },
  {
   "cell_type": "code",
   "execution_count": null,
   "id": "5c4b3507-4202-428f-8a5d-e1251e92a648",
   "metadata": {},
   "outputs": [],
   "source": []
  }
 ],
 "metadata": {
  "kernelspec": {
   "display_name": "Python 3 (ipykernel)",
   "language": "python",
   "name": "python3"
  },
  "language_info": {
   "codemirror_mode": {
    "name": "ipython",
    "version": 3
   },
   "file_extension": ".py",
   "mimetype": "text/x-python",
   "name": "python",
   "nbconvert_exporter": "python",
   "pygments_lexer": "ipython3",
   "version": "3.8.10"
  }
 },
 "nbformat": 4,
 "nbformat_minor": 5
}
